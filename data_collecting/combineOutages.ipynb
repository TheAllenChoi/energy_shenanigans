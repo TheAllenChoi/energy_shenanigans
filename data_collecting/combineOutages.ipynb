{
 "cells": [
  {
   "cell_type": "code",
   "execution_count": 27,
   "id": "58c13d22",
   "metadata": {},
   "outputs": [],
   "source": [
    "import pandas as pd\n",
    "import os"
   ]
  },
  {
   "cell_type": "code",
   "execution_count": 28,
   "id": "3adab3b0",
   "metadata": {},
   "outputs": [],
   "source": [
    "otcs = [\n",
    "            \"ALAMIT_2_PL1X3\", \"ALAMIT_7_UNIT 3\",\"ALAMIT_7_UNIT 4\",\"ALAMIT_7_UNIT 5\",\n",
    "            \"HNTGBH_2_PL1X3\", \"HNTGBH_7_UNIT 2\", \"ORMOND_7_UNIT 1\",\n",
    "            \"ORMOND_7_UNIT 2\", \"HARBGN_7_UNITS\", \"MOSSLD_2_PSP1\", \"MOSSLD_2_PSP2\"]"
   ]
  },
  {
   "cell_type": "code",
   "execution_count": 29,
   "id": "25b1e523",
   "metadata": {},
   "outputs": [],
   "source": [
    "months = [\"jan\", \"feb\", \"mar\", \"apr\", \"may\", \"jun\", \"jul\", \"aug\", \"sep\", \"oct\", \"nov\", \"dec\"]"
   ]
  },
  {
   "cell_type": "code",
   "execution_count": 32,
   "id": "211718ec",
   "metadata": {},
   "outputs": [],
   "source": [
    "combined_data = []\n",
    "\n",
    "for month in months:\n",
    "    fileDir = f\"./{month}\"\n",
    "    files = os.listdir(fileDir)\n",
    "    for file in files:\n",
    "        data = pd.read_excel(f\"{fileDir}/{file}\", header=9)\n",
    "        data.drop(labels=['Unnamed: 0', 'Unnamed: 3', 'Unnamed: 11'], inplace=True, axis=1)\n",
    "        combined_data.append(data)"
   ]
  },
  {
   "cell_type": "code",
   "execution_count": null,
   "id": "8a337f96",
   "metadata": {},
   "outputs": [],
   "source": [
    "combined_data = pd.concat(combined_data, ignore_index=True)\n",
    "combined_data.drop_duplicates(inplace=True)\n",
    "combined_data.to_csv(\"FullOutageData.csv\", index=False)"
   ]
  }
 ],
 "metadata": {
  "kernelspec": {
   "display_name": "Python 3",
   "language": "python",
   "name": "python3"
  },
  "language_info": {
   "codemirror_mode": {
    "name": "ipython",
    "version": 3
   },
   "file_extension": ".py",
   "mimetype": "text/x-python",
   "name": "python",
   "nbconvert_exporter": "python",
   "pygments_lexer": "ipython3",
   "version": "3.12.1"
  }
 },
 "nbformat": 4,
 "nbformat_minor": 5
}
