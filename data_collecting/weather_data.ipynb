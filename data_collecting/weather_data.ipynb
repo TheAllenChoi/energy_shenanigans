{
 "cells": [
  {
   "cell_type": "code",
   "execution_count": 1,
   "metadata": {},
   "outputs": [],
   "source": [
    "import pandas as pd\n",
    "import numpy as np\n",
    "import herbie\n",
    "from herbie import FastHerbie"
   ]
  },
  {
   "cell_type": "code",
   "execution_count": 2,
   "metadata": {},
   "outputs": [],
   "source": [
    "date_range = pd.date_range(\n",
    "    start = \"2024-01-01 00:00\",\n",
    "    end = \"2025-01-01 00:00\",\n",
    "    freq = \"1h\"\n",
    ")\n",
    "FH = FastHerbie(date_range, model = \"hrrr\", fxx = range(0, 1))"
   ]
  },
  {
   "cell_type": "code",
   "execution_count": null,
   "metadata": {},
   "outputs": [],
   "source": [
    "data = FH.xarray(\":TMP:2 m\", remove_grib = False, verbose = True)"
   ]
  },
  {
   "cell_type": "code",
   "execution_count": null,
   "metadata": {},
   "outputs": [],
   "source": [
    "coords = pd.read_csv(\"All_Power_Plants.csv\")[[\"x\", \"y\"]].rename({\"x\":\"longitude\", \"y\":\"latitude\"}, axis = 1)\n",
    "unique_coords = coords.drop_duplicates().reset_index(drop = True)\n",
    "power_plant = pd.read_csv(\"All_Power_Plants.csv\")"
   ]
  },
  {
   "cell_type": "code",
   "execution_count": 5,
   "metadata": {},
   "outputs": [
    {
     "data": {
      "text/html": [
       "<div>\n",
       "<style scoped>\n",
       "    .dataframe tbody tr th:only-of-type {\n",
       "        vertical-align: middle;\n",
       "    }\n",
       "\n",
       "    .dataframe tbody tr th {\n",
       "        vertical-align: top;\n",
       "    }\n",
       "\n",
       "    .dataframe thead th {\n",
       "        text-align: right;\n",
       "    }\n",
       "</style>\n",
       "<table border=\"1\" class=\"dataframe\">\n",
       "  <thead>\n",
       "    <tr style=\"text-align: right;\">\n",
       "      <th></th>\n",
       "      <th>longitude</th>\n",
       "      <th>latitude</th>\n",
       "    </tr>\n",
       "  </thead>\n",
       "  <tbody>\n",
       "    <tr>\n",
       "      <th>0</th>\n",
       "      <td>-120.953341</td>\n",
       "      <td>39.134259</td>\n",
       "    </tr>\n",
       "    <tr>\n",
       "      <th>1</th>\n",
       "      <td>-118.416800</td>\n",
       "      <td>34.011350</td>\n",
       "    </tr>\n",
       "    <tr>\n",
       "      <th>2</th>\n",
       "      <td>-119.256700</td>\n",
       "      <td>37.147926</td>\n",
       "    </tr>\n",
       "    <tr>\n",
       "      <th>3</th>\n",
       "      <td>-120.931390</td>\n",
       "      <td>37.629360</td>\n",
       "    </tr>\n",
       "    <tr>\n",
       "      <th>4</th>\n",
       "      <td>-120.594678</td>\n",
       "      <td>37.611461</td>\n",
       "    </tr>\n",
       "    <tr>\n",
       "      <th>...</th>\n",
       "      <td>...</td>\n",
       "      <td>...</td>\n",
       "    </tr>\n",
       "    <tr>\n",
       "      <th>1745</th>\n",
       "      <td>-119.518202</td>\n",
       "      <td>36.270566</td>\n",
       "    </tr>\n",
       "    <tr>\n",
       "      <th>1746</th>\n",
       "      <td>-121.422000</td>\n",
       "      <td>38.553000</td>\n",
       "    </tr>\n",
       "    <tr>\n",
       "      <th>1747</th>\n",
       "      <td>-119.763582</td>\n",
       "      <td>36.457362</td>\n",
       "    </tr>\n",
       "    <tr>\n",
       "      <th>1748</th>\n",
       "      <td>-119.582893</td>\n",
       "      <td>36.249006</td>\n",
       "    </tr>\n",
       "    <tr>\n",
       "      <th>1749</th>\n",
       "      <td>-121.955956</td>\n",
       "      <td>37.759761</td>\n",
       "    </tr>\n",
       "  </tbody>\n",
       "</table>\n",
       "<p>1750 rows × 2 columns</p>\n",
       "</div>"
      ],
      "text/plain": [
       "       longitude   latitude\n",
       "0    -120.953341  39.134259\n",
       "1    -118.416800  34.011350\n",
       "2    -119.256700  37.147926\n",
       "3    -120.931390  37.629360\n",
       "4    -120.594678  37.611461\n",
       "...          ...        ...\n",
       "1745 -119.518202  36.270566\n",
       "1746 -121.422000  38.553000\n",
       "1747 -119.763582  36.457362\n",
       "1748 -119.582893  36.249006\n",
       "1749 -121.955956  37.759761\n",
       "\n",
       "[1750 rows x 2 columns]"
      ]
     },
     "execution_count": 5,
     "metadata": {},
     "output_type": "execute_result"
    }
   ],
   "source": [
    "coords"
   ]
  },
  {
   "cell_type": "code",
   "execution_count": null,
   "metadata": {},
   "outputs": [
    {
     "ename": "NameError",
     "evalue": "name 'data' is not defined",
     "output_type": "error",
     "traceback": [
      "\u001b[1;31m---------------------------------------------------------------------------\u001b[0m",
      "\u001b[1;31mNameError\u001b[0m                                 Traceback (most recent call last)",
      "Cell \u001b[1;32mIn[4], line 1\u001b[0m\n\u001b[1;32m----> 1\u001b[0m weather \u001b[38;5;241m=\u001b[39m \u001b[43mdata\u001b[49m\u001b[38;5;241m.\u001b[39mherbie\u001b[38;5;241m.\u001b[39mpick_points(points \u001b[38;5;241m=\u001b[39m unique_coords)\n",
      "\u001b[1;31mNameError\u001b[0m: name 'data' is not defined"
     ]
    }
   ],
   "source": [
    "weather = data.herbie.pick_points(points = unique_coords)"
   ]
  },
  {
   "cell_type": "code",
   "execution_count": null,
   "metadata": {},
   "outputs": [],
   "source": [
    "weather.to_netcdf(\"weather_data.nc\")"
   ]
  },
  {
   "cell_type": "code",
   "execution_count": null,
   "metadata": {},
   "outputs": [
    {
     "name": "stderr",
     "output_type": "stream",
     "text": [
      "C:\\Users\\Anson\\AppData\\Local\\Temp\\ipykernel_40136\\1845536469.py:2: FutureWarning: In a future version of xarray decode_timedelta will default to False rather than None. To silence this warning, set decode_timedelta to True, False, or a 'CFTimedeltaCoder' instance.\n",
      "  weather = xarray.open_dataset(\"weather_data_5.nc\")\n"
     ]
    }
   ],
   "source": [
    "import xarray\n",
    "weather = xarray.open_dataset(\"weather_data.nc\")"
   ]
  },
  {
   "cell_type": "code",
   "execution_count": 9,
   "metadata": {},
   "outputs": [],
   "source": [
    "df_power = power_plant[[\"OBJECTID\", \"Plant_Code\", \"Plant_Name\", \"Utility_Name\", \"PrimSource\", \"Total_MW\", \"Longitude\", \"Latitude\"]].rename({\"Longitude\":\"longitude\", \"Latitude\":\"latitude\"}, axis = 1)"
   ]
  },
  {
   "cell_type": "code",
   "execution_count": 10,
   "metadata": {},
   "outputs": [],
   "source": [
    "df = weather.to_dataframe().reset_index()[[\"time\", \"t2m\", \"point_longitude\", \"point_latitude\"]].rename({\"point_longitude\":\"longitude\", \"point_latitude\":\"latitude\"}, axis = 1)"
   ]
  },
  {
   "cell_type": "code",
   "execution_count": null,
   "metadata": {},
   "outputs": [],
   "source": [
    "output = df_power.merge(df, on = [\"longitude\", \"latitude\"], how = \"left\")"
   ]
  },
  {
   "cell_type": "code",
   "execution_count": null,
   "metadata": {},
   "outputs": [],
   "source": [
    "output.to_csv(\"fullWeatherData.csv\")"
   ]
  }
 ],
 "metadata": {
  "kernelspec": {
   "display_name": "Python 3",
   "language": "python",
   "name": "python3"
  },
  "language_info": {
   "codemirror_mode": {
    "name": "ipython",
    "version": 3
   },
   "file_extension": ".py",
   "mimetype": "text/x-python",
   "name": "python",
   "nbconvert_exporter": "python",
   "pygments_lexer": "ipython3",
   "version": "3.12.1"
  }
 },
 "nbformat": 4,
 "nbformat_minor": 2
}
